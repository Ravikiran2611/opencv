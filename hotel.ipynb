{
  "nbformat": 4,
  "nbformat_minor": 0,
  "metadata": {
    "colab": {
      "name": "Untitled8.ipynb",
      "version": "0.3.2",
      "provenance": [],
      "collapsed_sections": [],
      "include_colab_link": true
    },
    "kernelspec": {
      "name": "python3",
      "display_name": "Python 3"
    },
    "accelerator": "GPU"
  },
  "cells": [
    {
      "cell_type": "markdown",
      "metadata": {
        "id": "view-in-github",
        "colab_type": "text"
      },
      "source": [
        "<a href=\"https://colab.research.google.com/github/Ravikiran2611/opencv/blob/master/hotel.ipynb\" target=\"_parent\"><img src=\"https://colab.research.google.com/assets/colab-badge.svg\" alt=\"Open In Colab\"/></a>"
      ]
    },
    {
      "cell_type": "code",
      "metadata": {
        "id": "iCYvC1mI3G5o",
        "colab_type": "code",
        "outputId": "3c934a68-72d6-49d8-aa44-b2dae37a636b",
        "colab": {
          "base_uri": "https://localhost:8080/",
          "height": 50
        }
      },
      "source": [
        "  !curl -s https://course.fast.ai/setup/colab | bash\n"
      ],
      "execution_count": 244,
      "outputs": [
        {
          "output_type": "stream",
          "text": [
            "Updating fastai...\n",
            "Done.\n"
          ],
          "name": "stdout"
        }
      ]
    },
    {
      "cell_type": "code",
      "metadata": {
        "id": "iUMUxBQ2XjWo",
        "colab_type": "code",
        "outputId": "485142d2-274e-4459-c4b7-78eceedde757",
        "colab": {
          "base_uri": "https://localhost:8080/",
          "height": 34
        }
      },
      "source": [
        "from google.colab import drive\n",
        "drive.mount('/content/gdrive', force_remount=True)\n",
        "root_dir = \"/content/gdrive/My Drive/\"\n",
        "base_dir = root_dir + 'fastai-v3/'"
      ],
      "execution_count": 245,
      "outputs": [
        {
          "output_type": "stream",
          "text": [
            "Mounted at /content/gdrive\n"
          ],
          "name": "stdout"
        }
      ]
    },
    {
      "cell_type": "code",
      "metadata": {
        "id": "46CxaqXbXlfI",
        "colab_type": "code",
        "colab": {}
      },
      "source": [
        "%reload_ext autoreload\n",
        "%autoreload 2\n",
        "%matplotlib inline"
      ],
      "execution_count": 0,
      "outputs": []
    },
    {
      "cell_type": "code",
      "metadata": {
        "id": "3KWEDPHsXnhb",
        "colab_type": "code",
        "colab": {}
      },
      "source": [
        "from fastai.text import *"
      ],
      "execution_count": 0,
      "outputs": []
    },
    {
      "cell_type": "code",
      "metadata": {
        "id": "46DCCYRgXpjv",
        "colab_type": "code",
        "colab": {}
      },
      "source": [
        " path =  Path('gdrive/My Drive/Colab Notebooks')"
      ],
      "execution_count": 0,
      "outputs": []
    },
    {
      "cell_type": "code",
      "metadata": {
        "id": "oaxocd-q5WvL",
        "colab_type": "code",
        "colab": {}
      },
      "source": [
        "import csv\n",
        "texts = []\n",
        "labels = []\n",
        "with open(path/\"SubtaskB_Trial_Test_Labeled.csv\",errors ='ignore', encoding='utf-8' ) as csv_file:\n",
        "  csv_reader  = csv.reader(csv_file,delimiter = ',')\n",
        "  for row in csv_reader:\n",
        "     _,text,label = row[0],row[1],row[2]\n",
        "     texts.append(text), labels.append(label)\n",
        "texts = texts[1:]\n",
        "labels = labels[1:]\n",
        "\n",
        "extratexts = []\n",
        "\n",
        "with open('gdrive/My Drive/Colab Notebooks/help.csv' ,errors='ignore', encoding='utf-8') as textfile:\n",
        "  reader = csv.reader(textfile, delimiter =',')\n",
        "  for row in reader:\n",
        "    extratexts.append(row)\n",
        " \n",
        "\n",
        " "
      ],
      "execution_count": 0,
      "outputs": []
    },
    {
      "cell_type": "code",
      "metadata": {
        "colab_type": "code",
        "id": "EVLEycQxGWfL",
        "colab": {}
      },
      "source": [
        "data = {'sentence':texts,'labels':labels}\n",
        "extratexts.append(texts)\n",
        "dataextra = {'sentence':extratexts}"
      ],
      "execution_count": 0,
      "outputs": []
    },
    {
      "cell_type": "code",
      "metadata": {
        "id": "xEV87xDkVpNx",
        "colab_type": "code",
        "colab": {}
      },
      "source": [
        "df =pd.DataFrame(data)\n",
        "dfextra = pd.DataFrame(dataextra)"
      ],
      "execution_count": 0,
      "outputs": []
    },
    {
      "cell_type": "code",
      "metadata": {
        "id": "t4ShsU4yCId9",
        "colab_type": "code",
        "outputId": "02fc08bd-2432-4e58-c4d8-d52a83704ac3",
        "colab": {
          "base_uri": "https://localhost:8080/",
          "height": 50
        }
      },
      "source": [
        "dfextra.iloc[90]"
      ],
      "execution_count": 252,
      "outputs": [
        {
          "output_type": "execute_result",
          "data": {
            "text/plain": [
              "sentence    [Credit the fact that it is owned and operated...\n",
              "Name: 90, dtype: object"
            ]
          },
          "metadata": {
            "tags": []
          },
          "execution_count": 252
        }
      ]
    },
    {
      "cell_type": "code",
      "metadata": {
        "id": "fpSKp3pI3sd-",
        "colab_type": "code",
        "colab": {}
      },
      "source": [
        "data_lm = TextList.from_df(dfextra,path,cols=0).split_by_rand_pct(0.1).label_for_lm().databunch(bs =64)"
      ],
      "execution_count": 0,
      "outputs": []
    },
    {
      "cell_type": "code",
      "metadata": {
        "id": "hMEa9X6A4JnV",
        "colab_type": "code",
        "outputId": "b510053d-9a8b-45ac-8caa-92d442e286a2",
        "colab": {
          "base_uri": "https://localhost:8080/",
          "height": 322
        }
      },
      "source": [
        "data_lm"
      ],
      "execution_count": 254,
      "outputs": [
        {
          "output_type": "execute_result",
          "data": {
            "text/plain": [
              "TextLMDataBunch;\n",
              "\n",
              "Train: LabelList (4306 items)\n",
              "x: LMTextList\n",
              "xxbos [ ' xxmaj check out some pictures i took of my xxunk after they got done .. ' ],xxbos [ ' xxmaj we had a pretty darn good time . ' ],xxbos [ ' xxmaj great food ' , ' superior service ' , ' gorgeous decor ... i had a xxmaj breakfast xxmaj xxunk and a generous side of xxmaj cheesy xxmaj grits . ' ],xxbos [ ' xxmaj xxunk . ' ],xxbos [ ' xxmaj my favorite dish so far is the spicy noodles . ' ]\n",
              "y: LMLabelList\n",
              ",,,,\n",
              "Path: gdrive/My Drive/Colab Notebooks;\n",
              "\n",
              "Valid: LabelList (478 items)\n",
              "x: LMTextList\n",
              "xxbos [ ' xxmaj they usually are . ' ],xxbos [ ' xxmaj they offered some sort of xxunk xxunk to xxunk some of the $ 30 xxunk up ' , ' but it all seemed more than xxunk in xxunk so we decided to park elsewhere . ' ],xxbos [ ' xxmaj the room was not ready when we got there so we got a xxunk which was supposed to be an upgrade with a xxunk private patio . ' ],xxbos [ ' xxmaj xxunk constantly goes up ' , ' even for those of us that have xxunk property xxunk years over . ' ],xxbos [ \" i 'm a fan . \" ]\n",
              "y: LMLabelList\n",
              ",,,,\n",
              "Path: gdrive/My Drive/Colab Notebooks;\n",
              "\n",
              "Test: None"
            ]
          },
          "metadata": {
            "tags": []
          },
          "execution_count": 254
        }
      ]
    },
    {
      "cell_type": "code",
      "metadata": {
        "id": "cl13NNId4XvY",
        "colab_type": "code",
        "colab": {}
      },
      "source": [
        "learn = language_model_learner(data_lm, AWD_LSTM, drop_mult=0.3,metrics = accuracy)"
      ],
      "execution_count": 0,
      "outputs": []
    },
    {
      "cell_type": "code",
      "metadata": {
        "id": "QPIXuJTz5MAm",
        "colab_type": "code",
        "outputId": "3ffc222f-dcce-40b9-a25a-c2c2665c91c2",
        "colab": {
          "base_uri": "https://localhost:8080/",
          "height": 34
        }
      },
      "source": [
        "learn.lr_find()"
      ],
      "execution_count": 256,
      "outputs": [
        {
          "output_type": "display_data",
          "data": {
            "text/html": [
              ""
            ],
            "text/plain": [
              "<IPython.core.display.HTML object>"
            ]
          },
          "metadata": {
            "tags": []
          }
        },
        {
          "output_type": "stream",
          "text": [
            "LR Finder is complete, type {learner_name}.recorder.plot() to see the graph.\n"
          ],
          "name": "stdout"
        }
      ]
    },
    {
      "cell_type": "code",
      "metadata": {
        "id": "bhJzsE285Ocx",
        "colab_type": "code",
        "outputId": "eb28777e-ce0c-4c61-b2ee-6702e25dce79",
        "colab": {
          "base_uri": "https://localhost:8080/",
          "height": 283
        }
      },
      "source": [
        "learn.recorder.plot()"
      ],
      "execution_count": 257,
      "outputs": [
        {
          "output_type": "display_data",
          "data": {
            "image/png": "[encoded data removed]",
            "text/plain": [
              "<Figure size 432x288 with 1 Axes>"
            ]
          },
          "metadata": {
            "tags": []
          }
        }
      ]
    },
    {
      "cell_type": "code",
      "metadata": {
        "id": "cvxY-_V25Vz8",
        "colab_type": "code",
        "outputId": "bb1c14f2-fa1c-4f29-c126-bc651c8c5861",
        "colab": {
          "base_uri": "https://localhost:8080/",
          "height": 77
        }
      },
      "source": [
        "learn.fit_one_cycle(1,1e-01)"
      ],
      "execution_count": 259,
      "outputs": [
        {
          "output_type": "display_data",
          "data": {
            "text/html": [
              "<table border=\"1\" class=\"dataframe\">\n",
              "  <thead>\n",
              "    <tr style=\"text-align: left;\">\n",
              "      <th>epoch</th>\n",
              "      <th>train_loss</th>\n",
              "      <th>valid_loss</th>\n",
              "      <th>accuracy</th>\n",
              "      <th>time</th>\n",
              "    </tr>\n",
              "  </thead>\n",
              "  <tbody>\n",
              "    <tr>\n",
              "      <td>0</td>\n",
              "      <td>3.207766</td>\n",
              "      <td>3.178495</td>\n",
              "      <td>0.417262</td>\n",
              "      <td>00:04</td>\n",
              "    </tr>\n",
              "  </tbody>\n",
              "</table>"
            ],
            "text/plain": [
              "<IPython.core.display.HTML object>"
            ]
          },
          "metadata": {
            "tags": []
          }
        }
      ]
    },
    {
      "cell_type": "code",
      "metadata": {
        "id": "RPhAhGmJ5bJv",
        "colab_type": "code",
        "colab": {}
      },
      "source": [
        "learn.unfreeze()"
      ],
      "execution_count": 0,
      "outputs": []
    },
    {
      "cell_type": "code",
      "metadata": {
        "id": "rwgwY48y5huB",
        "colab_type": "code",
        "outputId": "2060abd6-47e8-4e57-da1d-0b15880ee321",
        "colab": {
          "base_uri": "https://localhost:8080/",
          "height": 77
        }
      },
      "source": [
        "learn.fit_one_cycle(1,slice(1e-03,1e-01))"
      ],
      "execution_count": 261,
      "outputs": [
        {
          "output_type": "display_data",
          "data": {
            "text/html": [
              "<table border=\"1\" class=\"dataframe\">\n",
              "  <thead>\n",
              "    <tr style=\"text-align: left;\">\n",
              "      <th>epoch</th>\n",
              "      <th>train_loss</th>\n",
              "      <th>valid_loss</th>\n",
              "      <th>accuracy</th>\n",
              "      <th>time</th>\n",
              "    </tr>\n",
              "  </thead>\n",
              "  <tbody>\n",
              "    <tr>\n",
              "      <td>0</td>\n",
              "      <td>3.160546</td>\n",
              "      <td>3.095651</td>\n",
              "      <td>0.422842</td>\n",
              "      <td>00:06</td>\n",
              "    </tr>\n",
              "  </tbody>\n",
              "</table>"
            ],
            "text/plain": [
              "<IPython.core.display.HTML object>"
            ]
          },
          "metadata": {
            "tags": []
          }
        }
      ]
    },
    {
      "cell_type": "code",
      "metadata": {
        "id": "nM7sLDTD5oYc",
        "colab_type": "code",
        "colab": {}
      },
      "source": [
        "learn.save_encoder(\"fine tuned reverse\")"
      ],
      "execution_count": 0,
      "outputs": []
    },
    {
      "cell_type": "code",
      "metadata": {
        "id": "LdbqWGaQ6GEE",
        "colab_type": "code",
        "colab": {}
      },
      "source": [
        "# data_class = TextList.from_csv(path,'hotel.csv')\n",
        "data_clas = (TextList.from_csv(path,'hotel.csv', vocab=data_lm.vocab, cols = 1).split_by_rand_pct(0.2).label_from_df(cols = 2).databunch(bs =64))\n"
      ],
      "execution_count": 0,
      "outputs": []
    },
    {
      "cell_type": "code",
      "metadata": {
        "id": "YWnsF98a6ilA",
        "colab_type": "code",
        "colab": {}
      },
      "source": [
        "learnclassifier = text_classifier_learner(data_clas, AWD_LSTM, drop_mult=0.5, metrics = [accuracy , FBeta('micro')])\n",
        "learnclassifier.load_encoder('fine tuned reverse')"
      ],
      "execution_count": 0,
      "outputs": []
    },
    {
      "cell_type": "code",
      "metadata": {
        "id": "LyIFEVug6otb",
        "colab_type": "code",
        "outputId": "2bac58fa-b23c-4451-e76d-5ad82889df58",
        "colab": {
          "base_uri": "https://localhost:8080/",
          "height": 34
        }
      },
      "source": [
        "learnclassifier.lr_find()"
      ],
      "execution_count": 292,
      "outputs": [
        {
          "output_type": "display_data",
          "data": {
            "text/html": [
              ""
            ],
            "text/plain": [
              "<IPython.core.display.HTML object>"
            ]
          },
          "metadata": {
            "tags": []
          }
        },
        {
          "output_type": "stream",
          "text": [
            "LR Finder is complete, type {learner_name}.recorder.plot() to see the graph.\n"
          ],
          "name": "stdout"
        }
      ]
    },
    {
      "cell_type": "code",
      "metadata": {
        "id": "IIRrUqY-6vsH",
        "colab_type": "code",
        "outputId": "80221c19-9e77-46e4-ec99-8d892b7fe14e",
        "colab": {
          "base_uri": "https://localhost:8080/",
          "height": 283
        }
      },
      "source": [
        "learnclassifier.recorder.plot()"
      ],
      "execution_count": 293,
      "outputs": [
        {
          "output_type": "display_data",
          "data": {
            "image/png": "[encoded data removed]",
            "text/plain": [
              "<Figure size 432x288 with 1 Axes>"
            ]
          },
          "metadata": {
            "tags": []
          }
        }
      ]
    },
    {
      "cell_type": "code",
      "metadata": {
        "id": "vlmoTVsd6ygJ",
        "colab_type": "code",
        "outputId": "e98d3e77-f72f-410a-8046-07a8afd9d94f",
        "colab": {
          "base_uri": "https://localhost:8080/",
          "height": 77
        }
      },
      "source": [
        "learnclassifier.fit_one_cycle(1,8e-02)"
      ],
      "execution_count": 298,
      "outputs": [
        {
          "output_type": "display_data",
          "data": {
            "text/html": [
              "<table border=\"1\" class=\"dataframe\">\n",
              "  <thead>\n",
              "    <tr style=\"text-align: left;\">\n",
              "      <th>epoch</th>\n",
              "      <th>train_loss</th>\n",
              "      <th>valid_loss</th>\n",
              "      <th>accuracy</th>\n",
              "      <th>f_beta</th>\n",
              "      <th>time</th>\n",
              "    </tr>\n",
              "  </thead>\n",
              "  <tbody>\n",
              "    <tr>\n",
              "      <td>0</td>\n",
              "      <td>0.488416</td>\n",
              "      <td>0.423574</td>\n",
              "      <td>0.808711</td>\n",
              "      <td>0.808711</td>\n",
              "      <td>00:06</td>\n",
              "    </tr>\n",
              "  </tbody>\n",
              "</table>"
            ],
            "text/plain": [
              "<IPython.core.display.HTML object>"
            ]
          },
          "metadata": {
            "tags": []
          }
        }
      ]
    },
    {
      "cell_type": "code",
      "metadata": {
        "id": "1kNcDH1n620c",
        "colab_type": "code",
        "outputId": "fb69064d-e375-4f43-d52e-4aeb21f96b09",
        "colab": {
          "base_uri": "https://localhost:8080/",
          "height": 77
        }
      },
      "source": [
        "learnclassifier.fit_one_cycle(1,1e-01)"
      ],
      "execution_count": 297,
      "outputs": [
        {
          "output_type": "display_data",
          "data": {
            "text/html": [
              "<table border=\"1\" class=\"dataframe\">\n",
              "  <thead>\n",
              "    <tr style=\"text-align: left;\">\n",
              "      <th>epoch</th>\n",
              "      <th>train_loss</th>\n",
              "      <th>valid_loss</th>\n",
              "      <th>accuracy</th>\n",
              "      <th>f_beta</th>\n",
              "      <th>time</th>\n",
              "    </tr>\n",
              "  </thead>\n",
              "  <tbody>\n",
              "    <tr>\n",
              "      <td>0</td>\n",
              "      <td>0.490275</td>\n",
              "      <td>0.420308</td>\n",
              "      <td>0.819305</td>\n",
              "      <td>0.819305</td>\n",
              "      <td>00:06</td>\n",
              "    </tr>\n",
              "  </tbody>\n",
              "</table>"
            ],
            "text/plain": [
              "<IPython.core.display.HTML object>"
            ]
          },
          "metadata": {
            "tags": []
          }
        }
      ]
    },
    {
      "cell_type": "code",
      "metadata": {
        "id": "7scK0sKRNNud",
        "colab_type": "code",
        "colab": {}
      },
      "source": [
        "learnclassifier.save('suggestion classifier 85')"
      ],
      "execution_count": 0,
      "outputs": []
    },
    {
      "cell_type": "code",
      "metadata": {
        "id": "42w-76Wd68Hy",
        "colab_type": "code",
        "colab": {}
      },
      "source": [
        "data_c1 = (TextList.from_csv(path,'SubtaskA_EvaluationData_labeled.csv', vocab=data_lm.vocab, cols = 1).split_by_rand_pct(0.1).label_from_df(cols = 2).databunch(bs =64))\n"
      ],
      "execution_count": 0,
      "outputs": []
    },
    {
      "cell_type": "code",
      "metadata": {
        "id": "q_s2hlYi7Ob_",
        "colab_type": "code",
        "colab": {}
      },
      "source": [
        "data_c = (TextList.from_csv(path,'SubtaskB_EvaluationData_labeled.csv', vocab=data_lm.vocab, cols = 1).split_by_rand_pct(0.1).label_from_df(cols = 2).databunch(bs =64))\n"
      ],
      "execution_count": 0,
      "outputs": []
    },
    {
      "cell_type": "code",
      "metadata": {
        "id": "qXPGb42A7TQh",
        "colab_type": "code",
        "outputId": "1c3de16d-70e6-46e8-fd6d-f596ea40d775",
        "colab": {
          "base_uri": "https://localhost:8080/",
          "height": 34
        }
      },
      "source": [
        "# learnclassifier.load('suggestion classifier 85')\n",
        "learnclassifier.validate(data_c1.train_dl)"
      ],
      "execution_count": 301,
      "outputs": [
        {
          "output_type": "execute_result",
          "data": {
            "text/plain": [
              "[0.3609092, tensor(0.8665), tensor(0.8665)]"
            ]
          },
          "metadata": {
            "tags": []
          },
          "execution_count": 301
        }
      ]
    },
    {
      "cell_type": "code",
      "metadata": {
        "id": "M71lwU3d-RRg",
        "colab_type": "code",
        "outputId": "fc8e2257-d3c4-4eec-dcd0-2f8b4eaf1062",
        "colab": {
          "base_uri": "https://localhost:8080/",
          "height": 34
        }
      },
      "source": [
        "learnclassifier.validate(data_c.train_dl)"
      ],
      "execution_count": 302,
      "outputs": [
        {
          "output_type": "execute_result",
          "data": {
            "text/plain": [
              "[0.6699175, tensor(0.6307), tensor(0.6307)]"
            ]
          },
          "metadata": {
            "tags": []
          },
          "execution_count": 302
        }
      ]
    }
  ]
}